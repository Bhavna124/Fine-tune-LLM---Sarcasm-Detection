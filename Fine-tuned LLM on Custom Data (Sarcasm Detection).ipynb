{
 "cells": [
  {
   "cell_type": "code",
   "execution_count": 1,
   "id": "3647edeb",
   "metadata": {},
   "outputs": [
    {
     "data": {
      "text/html": [
       "<div>\n",
       "<style scoped>\n",
       "    .dataframe tbody tr th:only-of-type {\n",
       "        vertical-align: middle;\n",
       "    }\n",
       "\n",
       "    .dataframe tbody tr th {\n",
       "        vertical-align: top;\n",
       "    }\n",
       "\n",
       "    .dataframe thead th {\n",
       "        text-align: right;\n",
       "    }\n",
       "</style>\n",
       "<table border=\"1\" class=\"dataframe\">\n",
       "  <thead>\n",
       "    <tr style=\"text-align: right;\">\n",
       "      <th></th>\n",
       "      <th>dialect</th>\n",
       "      <th>sarcasm</th>\n",
       "      <th>sentiment</th>\n",
       "      <th>original_sentiment</th>\n",
       "      <th>tweet</th>\n",
       "      <th>source</th>\n",
       "    </tr>\n",
       "  </thead>\n",
       "  <tbody>\n",
       "    <tr>\n",
       "      <th>0</th>\n",
       "      <td>gulf</td>\n",
       "      <td>False</td>\n",
       "      <td>negative</td>\n",
       "      <td>negative</td>\n",
       "      <td>\"نصيحه ما عمرك اتنزل لعبة سوبر ماريو مش زي ما ...</td>\n",
       "      <td>semeval</td>\n",
       "    </tr>\n",
       "    <tr>\n",
       "      <th>1</th>\n",
       "      <td>msa</td>\n",
       "      <td>False</td>\n",
       "      <td>neutral</td>\n",
       "      <td>positive</td>\n",
       "      <td>\"#نادين_نسيب_نجيم ❤️❤️❤️مجلة #ماري_كلير 💭#ملكة...</td>\n",
       "      <td>semeval</td>\n",
       "    </tr>\n",
       "    <tr>\n",
       "      <th>2</th>\n",
       "      <td>egypt</td>\n",
       "      <td>False</td>\n",
       "      <td>neutral</td>\n",
       "      <td>neutral</td>\n",
       "      <td>\"@Alito_NBA اتوقع انه بيستمر\"</td>\n",
       "      <td>semeval</td>\n",
       "    </tr>\n",
       "    <tr>\n",
       "      <th>3</th>\n",
       "      <td>levant</td>\n",
       "      <td>True</td>\n",
       "      <td>neutral</td>\n",
       "      <td>negative</td>\n",
       "      <td>\"@KSA24 يعني \"بموافقتنا\" لأن دمشق صايرة موسكو\"</td>\n",
       "      <td>semeval</td>\n",
       "    </tr>\n",
       "    <tr>\n",
       "      <th>4</th>\n",
       "      <td>msa</td>\n",
       "      <td>False</td>\n",
       "      <td>neutral</td>\n",
       "      <td>negative</td>\n",
       "      <td>\"RT @alaahmad20: قائد في الحرس يعترف بفقدان ال...</td>\n",
       "      <td>semeval</td>\n",
       "    </tr>\n",
       "  </tbody>\n",
       "</table>\n",
       "</div>"
      ],
      "text/plain": [
       "  dialect  sarcasm sentiment original_sentiment  \\\n",
       "0    gulf    False  negative           negative   \n",
       "1     msa    False   neutral           positive   \n",
       "2   egypt    False   neutral            neutral   \n",
       "3  levant     True   neutral           negative   \n",
       "4     msa    False   neutral           negative   \n",
       "\n",
       "                                               tweet   source  \n",
       "0  \"نصيحه ما عمرك اتنزل لعبة سوبر ماريو مش زي ما ...  semeval  \n",
       "1  \"#نادين_نسيب_نجيم ❤️❤️❤️مجلة #ماري_كلير 💭#ملكة...  semeval  \n",
       "2                      \"@Alito_NBA اتوقع انه بيستمر\"  semeval  \n",
       "3     \"@KSA24 يعني \"بموافقتنا\" لأن دمشق صايرة موسكو\"  semeval  \n",
       "4  \"RT @alaahmad20: قائد في الحرس يعترف بفقدان ال...  semeval  "
      ]
     },
     "execution_count": 1,
     "metadata": {},
     "output_type": "execute_result"
    }
   ],
   "source": [
    "# load dataset\n",
    "import pandas as pd\n",
    "df = pd.read_csv(\"/Users/bhavnabangia/Downloads/ArSarcasm_train.csv\")\n",
    "df.head()"
   ]
  },
  {
   "cell_type": "code",
   "execution_count": 2,
   "id": "1a93d34c",
   "metadata": {},
   "outputs": [],
   "source": [
    "# cleaning text (removing special keywords, emojies, stopwords,links, urls, users etc)\n",
    "import re\n",
    "\n",
    "def clean_tweet(text):\n",
    "    # Remove URLs\n",
    "    text = re.sub(r'http\\S+', '', text)\n",
    "    \n",
    "    # Remove emails\n",
    "    text = re.sub(r'\\S*@\\S*\\s?', '', text)\n",
    "    \n",
    "    # Remove emojis\n",
    "    emoji_pattern = re.compile(\"[\"\n",
    "                               u\"\\U0001F600-\\U0001F64F\"  # emoticons\n",
    "                               u\"\\U0001F300-\\U0001F5FF\"  # symbols & pictographs\n",
    "                               u\"\\U0001F680-\\U0001F6FF\"  # transport & map symbols\n",
    "                               u\"\\U0001F1E0-\\U0001F1FF\"  # flags (iOS)\n",
    "                               \"]+\", flags=re.UNICODE)\n",
    "    text = emoji_pattern.sub(r'', text)\n",
    "    \n",
    "    # Convert text to lowercase\n",
    "    text = text.lower()\n",
    "    \n",
    "    # Remove extra whitespaces\n",
    "    text = re.sub(r'\\s+', ' ', text)\n",
    "    \n",
    "    # Remove hashtags\n",
    "    text = re.sub(r'#\\S+', '', text)\n",
    "    \n",
    "    return text\n",
    "\n",
    "# Example usage\n",
    "clean_tweet('\"نصيحه ما عمرك اتنزل لعبة سوبر ماريو مش❤️❤️❤️مجلة 💭 👑 زي ما كنّا متوقعين الله يرحم ايامات السيقا والفاميلي #SuperMarioRun  https//  noor@gmail.com @all\"')\n",
    "df['clean_tweet'] = df['tweet'].apply(clean_tweet)"
   ]
  },
  {
   "cell_type": "code",
   "execution_count": 3,
   "id": "69876437",
   "metadata": {},
   "outputs": [
    {
     "data": {
      "text/plain": [
       "0       \"نصيحه ما عمرك اتنزل لعبة سوبر ماريو مش زي ما ...\n",
       "1                                         \" ❤️❤️❤️مجلة   \n",
       "2                                       اتوقع انه بيستمر\"\n",
       "3                  يعني \"بموافقتنا\" لأن دمشق صايرة موسكو\"\n",
       "4       \"rt قائد في الحرس يعترف بفقدان السيطرة الأمنية...\n",
       "                              ...                        \n",
       "8432    \"rt  | تطبيق يوتيوب الأطفال من جوجل يعرض المقا...\n",
       "8433    سي بي سي: يشارك باحتفالية تنزانيا اليوم بمناسب...\n",
       "8434    \"كلب إسرائيل وسيفها الإرهابي بوتن قاتل النساء ...\n",
       "8435    \"احمد فتفت صار مغضوب عليه بمجرد اعترضو على ميش...\n",
       "8436    \"قناة آسيا: مندوب  في  بشار الجعفري:  في  هو ن...\n",
       "Name: clean_tweet, Length: 8437, dtype: object"
      ]
     },
     "execution_count": 3,
     "metadata": {},
     "output_type": "execute_result"
    }
   ],
   "source": [
    "df['clean_tweet']"
   ]
  },
  {
   "cell_type": "code",
   "execution_count": 4,
   "id": "9946afcc",
   "metadata": {},
   "outputs": [],
   "source": [
    "# Encoding \n",
    "from sklearn.preprocessing import LabelEncoder\n",
    "\n",
    "encoder = LabelEncoder()\n",
    "\n",
    "df['sarcasm'] = encoder.fit_transform(df['sarcasm'])"
   ]
  },
  {
   "cell_type": "code",
   "execution_count": 5,
   "id": "5621137b",
   "metadata": {},
   "outputs": [],
   "source": [
    "# balancing Target column values\n",
    "# balance target columns\n",
    "from imblearn.over_sampling import RandomOverSampler\n",
    "import numpy as np\n",
    "\n",
    "def balance_df(df,text,target):\n",
    "    ros = RandomOverSampler()\n",
    "    train_x, train_y = ros.fit_resample(np.array(df[text]).reshape(-1, 1), np.array(df[target]).reshape(-1, 1))\n",
    "    new_df = pd.DataFrame(list(zip([x[0] for x in train_x], train_y)), columns = [text, target])\n",
    "    \n",
    "    return new_df\n",
    "\n",
    "\n",
    "\n",
    "# new df\n",
    "sarcasm_df = pd.DataFrame()\n",
    "sarcasm_df = balance_df(df,'clean_tweet','sarcasm')"
   ]
  },
  {
   "cell_type": "code",
   "execution_count": 6,
   "id": "b3309a7b",
   "metadata": {},
   "outputs": [],
   "source": [
    "from sklearn.model_selection import train_test_split\n",
    "# Split the dataset into features and target variable\n",
    "X = sarcasm_df['clean_tweet']\n",
    "y = sarcasm_df['sarcasm']\n",
    "\n",
    "# Train-test split\n",
    "X_train, X_test, y_train, y_test = train_test_split(X, y, test_size=0.2, random_state=42)\n"
   ]
  },
  {
   "cell_type": "code",
   "execution_count": 7,
   "id": "4abef707",
   "metadata": {},
   "outputs": [
    {
     "data": {
      "application/vnd.jupyter.widget-view+json": {
       "model_id": "709fc4fc07854260977c355117589b2f",
       "version_major": 2,
       "version_minor": 0
      },
      "text/plain": [
       "Downloading tokenizer_config.json:   0%|          | 0.00/28.0 [00:00<?, ?B/s]"
      ]
     },
     "metadata": {},
     "output_type": "display_data"
    },
    {
     "data": {
      "application/vnd.jupyter.widget-view+json": {
       "model_id": "264e893eeaaf4bb09a507b2418b5bd43",
       "version_major": 2,
       "version_minor": 0
      },
      "text/plain": [
       "Downloading vocab.txt:   0%|          | 0.00/232k [00:00<?, ?B/s]"
      ]
     },
     "metadata": {},
     "output_type": "display_data"
    },
    {
     "data": {
      "application/vnd.jupyter.widget-view+json": {
       "model_id": "edee689430974d7d99ef924ecd69d83d",
       "version_major": 2,
       "version_minor": 0
      },
      "text/plain": [
       "Downloading tokenizer.json:   0%|          | 0.00/466k [00:00<?, ?B/s]"
      ]
     },
     "metadata": {},
     "output_type": "display_data"
    },
    {
     "data": {
      "application/vnd.jupyter.widget-view+json": {
       "model_id": "19c30fe7650d4739b04577caa3364f9b",
       "version_major": 2,
       "version_minor": 0
      },
      "text/plain": [
       "Downloading config.json:   0%|          | 0.00/483 [00:00<?, ?B/s]"
      ]
     },
     "metadata": {},
     "output_type": "display_data"
    },
    {
     "data": {
      "application/vnd.jupyter.widget-view+json": {
       "model_id": "0f249b700fb54feca6aca9e6204a11ed",
       "version_major": 2,
       "version_minor": 0
      },
      "text/plain": [
       "Downloading model.safetensors:   0%|          | 0.00/268M [00:00<?, ?B/s]"
      ]
     },
     "metadata": {},
     "output_type": "display_data"
    },
    {
     "name": "stderr",
     "output_type": "stream",
     "text": [
      "Some weights of the PyTorch model were not used when initializing the TF 2.0 model TFDistilBertForSequenceClassification: ['vocab_layer_norm.weight', 'vocab_transform.weight', 'vocab_projector.bias', 'vocab_transform.bias', 'vocab_layer_norm.bias']\n",
      "- This IS expected if you are initializing TFDistilBertForSequenceClassification from a PyTorch model trained on another task or with another architecture (e.g. initializing a TFBertForSequenceClassification model from a BertForPreTraining model).\n",
      "- This IS NOT expected if you are initializing TFDistilBertForSequenceClassification from a PyTorch model that you expect to be exactly identical (e.g. initializing a TFBertForSequenceClassification model from a BertForSequenceClassification model).\n",
      "Some weights or buffers of the TF 2.0 model TFDistilBertForSequenceClassification were not initialized from the PyTorch model and are newly initialized: ['pre_classifier.weight', 'pre_classifier.bias', 'classifier.weight', 'classifier.bias']\n",
      "You should probably TRAIN this model on a down-stream task to be able to use it for predictions and inference.\n"
     ]
    }
   ],
   "source": [
    "import tensorflow as tf\n",
    "from transformers import TFDistilBertForSequenceClassification, DistilBertTokenizer\n",
    "\n",
    "# Load the tokenizer\n",
    "tokenizer = DistilBertTokenizer.from_pretrained(\"distilbert-base-uncased\")\n",
    "model = TFDistilBertForSequenceClassification.from_pretrained(\"distilbert-base-uncased\")"
   ]
  },
  {
   "cell_type": "code",
   "execution_count": 8,
   "id": "5535410a",
   "metadata": {},
   "outputs": [
    {
     "name": "stdout",
     "output_type": "stream",
     "text": [
      "143\n"
     ]
    }
   ],
   "source": [
    "value = max(len(text) for text in sarcasm_df['clean_tweet'])\n",
    "print(value)"
   ]
  },
  {
   "cell_type": "code",
   "execution_count": 9,
   "id": "6e4caef0",
   "metadata": {},
   "outputs": [],
   "source": [
    "# Tokenize training and testing data\n",
    "max_length= 143\n",
    "train_encodings = tokenizer(X_train.tolist(), truncation=True, padding=True,max_length=max_length)\n",
    "test_encodings = tokenizer(X_test.tolist(), truncation=True, padding=True,max_length=max_length)"
   ]
  },
  {
   "cell_type": "code",
   "execution_count": 10,
   "id": "6e62bab5",
   "metadata": {},
   "outputs": [],
   "source": [
    "# Convert tokenized data to TensorFlow datasets\n",
    "train_dataset = tf.data.Dataset.from_tensor_slices((dict(train_encodings), y_train))\n",
    "test_dataset = tf.data.Dataset.from_tensor_slices((dict(test_encodings), y_test))\n"
   ]
  },
  {
   "cell_type": "code",
   "execution_count": 12,
   "id": "c98fe3a5",
   "metadata": {},
   "outputs": [
    {
     "name": "stderr",
     "output_type": "stream",
     "text": [
      "WARNING:absl:At this time, the v2.11+ optimizer `tf.keras.optimizers.Adam` runs slowly on M1/M2 Macs, please use the legacy Keras optimizer instead, located at `tf.keras.optimizers.legacy.Adam`.\n",
      "WARNING:absl:There is a known slowdown when using v2.11+ Keras optimizers on M1/M2 Macs. Falling back to the legacy Keras optimizer, i.e., `tf.keras.optimizers.legacy.Adam`.\n"
     ]
    },
    {
     "name": "stdout",
     "output_type": "stream",
     "text": [
      "710/710 [==============================] - 3454s 5s/step - loss: 0.6332 - accuracy: 0.6474 - val_loss: 0.6243 - val_accuracy: 0.6648\n"
     ]
    }
   ],
   "source": [
    "# Compile the model\n",
    "optimizer = tf.keras.optimizers.Adam(learning_rate=5e-5)\n",
    "loss = tf.keras.losses.SparseCategoricalCrossentropy(from_logits=True)\n",
    "model.compile(optimizer=optimizer, loss=loss, metrics=['accuracy'])\n",
    "\n",
    "# Train the model\n",
    "history = model.fit(\n",
    "    train_dataset.shuffle(1000).batch(16),\n",
    "    epochs=1,\n",
    "    batch_size=8,  # Change to a batch size that works for your dataset and hardware\n",
    "    validation_data=test_dataset.batch(16)\n",
    ")"
   ]
  },
  {
   "cell_type": "code",
   "execution_count": 15,
   "id": "e569bea0",
   "metadata": {},
   "outputs": [
    {
     "name": "stdout",
     "output_type": "stream",
     "text": [
      "178/178 [==============================] - 270s 2s/step\n"
     ]
    },
    {
     "data": {
      "text/plain": [
       "array([[ 631,  803],\n",
       "       [ 149, 1257]])"
      ]
     },
     "execution_count": 15,
     "metadata": {},
     "output_type": "execute_result"
    }
   ],
   "source": [
    "from sklearn.metrics import confusion_matrix\n",
    "# Evaluate the model on the test dataset\n",
    "y_pred = model.predict(test_dataset.batch(16))\n",
    "y_pred_labels = np.argmax(y_pred.logits, axis=1)\n",
    "\n",
    "# Generate the confusion matrix\n",
    "cm = confusion_matrix(y_test, y_pred_labels)\n",
    "cm"
   ]
  },
  {
   "cell_type": "code",
   "execution_count": 17,
   "id": "3d94b735",
   "metadata": {},
   "outputs": [
    {
     "data": {
      "image/png": "[encoded data removed]",
      "text/plain": [
       "<Figure size 800x600 with 2 Axes>"
      ]
     },
     "metadata": {},
     "output_type": "display_data"
    }
   ],
   "source": [
    "import matplotlib.pyplot as plt\n",
    "# Plot the confusion matrix\n",
    "plt.figure(figsize=(8, 6))\n",
    "plt.imshow(cm, interpolation='nearest', cmap=plt.cm.Blues)\n",
    "plt.title('Confusion Matrix')\n",
    "plt.colorbar()\n",
    "tick_marks = np.arange(2)  # Assuming you have binary classification (0 and 1)\n",
    "plt.xticks(tick_marks, ['Not Sarcastic', 'Sarcastic'])\n",
    "plt.yticks(tick_marks, ['Not Sarcastic', 'Sarcastic'])\n",
    "\n",
    "# Add counts in each cell\n",
    "thresh = cm.max() / 2.\n",
    "for i in range(cm.shape[0]):\n",
    "    for j in range(cm.shape[1]):\n",
    "        plt.text(j, i, str(cm[i, j]), ha='center', va='center', color='black')\n",
    "\n",
    "plt.xlabel('Predicted Label')\n",
    "plt.ylabel('True Label')\n",
    "plt.tight_layout()\n",
    "plt.show()"
   ]
  },
  {
   "cell_type": "code",
   "execution_count": 20,
   "id": "598974ed",
   "metadata": {},
   "outputs": [
    {
     "data": {
      "text/plain": [
       "(2840,)"
      ]
     },
     "execution_count": 20,
     "metadata": {},
     "output_type": "execute_result"
    }
   ],
   "source": [
    "y_test.shape"
   ]
  },
  {
   "cell_type": "code",
   "execution_count": 21,
   "id": "e73d3989",
   "metadata": {},
   "outputs": [
    {
     "ename": "AttributeError",
     "evalue": "'TFSequenceClassifierOutput' object has no attribute 'shape'",
     "output_type": "error",
     "traceback": [
      "\u001b[0;31m---------------------------------------------------------------------------\u001b[0m",
      "\u001b[0;31mAttributeError\u001b[0m                            Traceback (most recent call last)",
      "Cell \u001b[0;32mIn[21], line 1\u001b[0m\n\u001b[0;32m----> 1\u001b[0m \u001b[43my_pred\u001b[49m\u001b[38;5;241;43m.\u001b[39;49m\u001b[43mshape\u001b[49m\n",
      "\u001b[0;31mAttributeError\u001b[0m: 'TFSequenceClassifierOutput' object has no attribute 'shape'"
     ]
    }
   ],
   "source": [
    "y_pred.shape"
   ]
  },
  {
   "cell_type": "code",
   "execution_count": 22,
   "id": "4701b41c",
   "metadata": {},
   "outputs": [
    {
     "name": "stdout",
     "output_type": "stream",
     "text": [
      "Classification Report:\n",
      "              precision    recall  f1-score   support\n",
      "\n",
      " Not Sarcasm       0.81      0.44      0.57      1434\n",
      "     Sarcasm       0.61      0.89      0.73      1406\n",
      "\n",
      "    accuracy                           0.66      2840\n",
      "   macro avg       0.71      0.67      0.65      2840\n",
      "weighted avg       0.71      0.66      0.65      2840\n",
      "\n"
     ]
    }
   ],
   "source": [
    "from sklearn.metrics import classification_report\n",
    "# Generate the classification report\n",
    "\n",
    "\n",
    "class_report = classification_report(y_test, y_pred_labels, target_names=['Not Sarcasm', 'Sarcasm'])\n",
    "\n",
    "# Print the classification report\n",
    "print(\"Classification Report:\")\n",
    "print(class_report)"
   ]
  },
  {
   "cell_type": "code",
   "execution_count": 23,
   "id": "c3728fd1",
   "metadata": {},
   "outputs": [],
   "source": [
    "# Save the model\n",
    "model.save_pretrained(\"distilbert_model\")\n"
   ]
  },
  {
   "cell_type": "code",
   "execution_count": 24,
   "id": "5fe6dddd",
   "metadata": {},
   "outputs": [
    {
     "name": "stderr",
     "output_type": "stream",
     "text": [
      "Some layers from the model checkpoint at distilbert_model were not used when initializing TFDistilBertForSequenceClassification: ['dropout_19']\n",
      "- This IS expected if you are initializing TFDistilBertForSequenceClassification from the checkpoint of a model trained on another task or with another architecture (e.g. initializing a BertForSequenceClassification model from a BertForPreTraining model).\n",
      "- This IS NOT expected if you are initializing TFDistilBertForSequenceClassification from the checkpoint of a model that you expect to be exactly identical (initializing a BertForSequenceClassification model from a BertForSequenceClassification model).\n",
      "Some layers of TFDistilBertForSequenceClassification were not initialized from the model checkpoint at distilbert_model and are newly initialized: ['dropout_39']\n",
      "You should probably TRAIN this model on a down-stream task to be able to use it for predictions and inference.\n"
     ]
    }
   ],
   "source": [
    "from transformers import TFDistilBertForSequenceClassification\n",
    "\n",
    "# Load the model\n",
    "loaded_model = TFDistilBertForSequenceClassification.from_pretrained(\"distilbert_model\")"
   ]
  },
  {
   "cell_type": "code",
   "execution_count": 25,
   "id": "3c625b7f",
   "metadata": {},
   "outputs": [],
   "source": [
    "# predictive System\n",
    "def predict(text):\n",
    "    text = clean_tweet(text)\n",
    "    # Tokenize, pad, and encode the input text\n",
    "    inputs = tokenizer(text, truncation=True, padding=True, return_tensors=\"tf\")\n",
    "    \n",
    "    # Predict labels for the input text\n",
    "    logits = loaded_model(inputs).logits\n",
    "    \n",
    "    # Convert logits to probabilities\n",
    "    probabilities = tf.nn.softmax(logits, axis=1).numpy()\n",
    "    \n",
    "    # Get predicted labels\n",
    "    predicted_labels = np.argmax(probabilities, axis=1)\n",
    "    \n",
    "    return predicted_labels"
   ]
  },
  {
   "cell_type": "code",
   "execution_count": 26,
   "id": "453e1ef8",
   "metadata": {},
   "outputs": [
    {
     "name": "stdout",
     "output_type": "stream",
     "text": [
      "Predicted label: [1]\n",
      "Sarcasm Statement\n"
     ]
    }
   ],
   "source": [
    "# Example usage\n",
    "text = '\"نصيحه ما عمرك اتنزل لعبة سوبر ماريو مش زي ما كنّا متوقعين الله يرحم ايامات السيقا والفاميلي '\n",
    "predicted_label = predict(text)\n",
    "print(\"Predicted label:\", predicted_label)\n",
    "\n",
    "if predicted_label[0]==1:\n",
    "    print(\"Sarcasm Statement\")\n",
    "else:\n",
    "    print(\"Not Sarcasm Statement\")"
   ]
  },
  {
   "cell_type": "code",
   "execution_count": 27,
   "id": "1b2a561a",
   "metadata": {},
   "outputs": [
    {
     "name": "stdout",
     "output_type": "stream",
     "text": [
      "Predicted label: [1]\n",
      "Sarcasm Statement\n"
     ]
    }
   ],
   "source": [
    "# Example usage 2\n",
    "text = '\"كل معرضينك باعوك يا سيسي '\n",
    "predicted_label = predict(text)\n",
    "print(\"Predicted label:\", predicted_label)\n",
    "\n",
    "if predicted_label[0]==1:\n",
    "    print(\"Sarcasm Statement\")\n",
    "else:\n",
    "    print(\"Not Sarcasm Statement\")"
   ]
  },
  {
   "cell_type": "code",
   "execution_count": null,
   "id": "f597954d",
   "metadata": {},
   "outputs": [],
   "source": []
  }
 ],
 "metadata": {
  "kernelspec": {
   "display_name": "Python 3 (ipykernel)",
   "language": "python",
   "name": "python3"
  },
  "language_info": {
   "codemirror_mode": {
    "name": "ipython",
    "version": 3
   },
   "file_extension": ".py",
   "mimetype": "text/x-python",
   "name": "python",
   "nbconvert_exporter": "python",
   "pygments_lexer": "ipython3",
   "version": "3.8.17"
  }
 },
 "nbformat": 4,
 "nbformat_minor": 5
}
